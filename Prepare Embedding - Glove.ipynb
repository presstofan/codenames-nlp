{
 "cells": [
  {
   "cell_type": "code",
   "execution_count": 1,
   "metadata": {},
   "outputs": [],
   "source": [
    "import numpy as np\n",
    "import pandas as pd\n",
    "import pickle\n",
    "from scipy import spatial"
   ]
  },
  {
   "cell_type": "code",
   "execution_count": 2,
   "metadata": {},
   "outputs": [],
   "source": [
    "# load embeddings\n",
    "embeddings_dict = {}\n",
    "with open(\"embeddings/glove/glove.6B.300d.txt\", 'r', encoding=\"utf8\") as f:\n",
    "    for line in f:\n",
    "        values = line.split()\n",
    "        word = values[0]\n",
    "        vector = np.asarray(values[1:], \"float32\")\n",
    "        embeddings_dict[word] = vector"
   ]
  },
  {
   "cell_type": "code",
   "execution_count": 3,
   "metadata": {},
   "outputs": [],
   "source": [
    "# Load Codenames word list\n",
    "codenames_df = pd.read_csv(\"word_list/codenames_word_list.csv\") \n",
    "codenames = pd.melt(codenames_df, id_vars=['ID', 'Version'], value_vars=['SideA', 'SideB'],\n",
    "        var_name='Side', value_name='Codename')['Codename'].tolist()\n",
    "codenames = [i.lower() for i in codenames] # convert to lowercase\n",
    "\n",
    "# remove two-word nouns\n",
    "one_word_idx = [' ' not in i for i in codenames]\n",
    "codenames = [i for (i, v) in zip(codenames, one_word_idx) if v]"
   ]
  },
  {
   "cell_type": "code",
   "execution_count": 4,
   "metadata": {},
   "outputs": [],
   "source": [
    "# Load common English words\n",
    "with open('word_list/google-10000-english.txt', 'r') as f:\n",
    "    english_common = f.read().splitlines()\n",
    "    \n",
    "# Remove one-letter words from the list\n",
    "# english_common = [i for i in english_common if len(i) > 1]"
   ]
  },
  {
   "cell_type": "code",
   "execution_count": 5,
   "metadata": {},
   "outputs": [],
   "source": [
    "# Combine the common English words with the Codename words\n",
    "words_list = codenames + english_common\n",
    "words_list = list(dict.fromkeys(words_list)) # remove duplicates\n",
    "\n",
    "# Remove words from the combine word lists that does not appear in the embeddings\n",
    "embeddings_list = embeddings_dict.keys()\n",
    "not_in_embeddings = [x for x in words_list if x not in embeddings_list]\n",
    "words_list = [x for x in words_list if x not in not_in_embeddings]"
   ]
  },
  {
   "cell_type": "code",
   "execution_count": 6,
   "metadata": {},
   "outputs": [],
   "source": [
    "# Filter the embeddings dict with the words_list\n",
    "embeddings_lite_dict = {k: embeddings_dict[k] for k in words_list}"
   ]
  },
  {
   "cell_type": "code",
   "execution_count": 7,
   "metadata": {},
   "outputs": [],
   "source": [
    "# Save the lite embeddings as pickle object\n",
    "pickle.dump( embeddings_lite_dict, open( \"glove_6B_300d_lite.p\", \"wb\" ) )"
   ]
  },
  {
   "cell_type": "code",
   "execution_count": 8,
   "metadata": {},
   "outputs": [
    {
     "data": {
      "text/plain": [
       "array([-5.0094e-02, -1.0762e-01,  3.2229e-01,  1.6050e-02,  7.7811e-02,\n",
       "        2.2434e-02,  8.6380e-02, -5.1917e-01, -7.3523e-02, -1.3516e-01,\n",
       "        5.5044e-01,  1.1859e-01,  2.8920e-01,  4.3418e-01, -1.8719e-01,\n",
       "       -8.2179e-01,  7.0902e-02,  1.8455e-01, -6.9144e-02,  6.3938e-01,\n",
       "        2.7528e-01,  4.0871e-01,  1.5194e-01, -2.8897e-02,  1.9034e-01,\n",
       "        3.6157e-01,  2.7145e-01, -5.7447e-01,  5.1863e-01,  2.4653e-02,\n",
       "       -3.2429e-01,  1.9410e-01, -2.6307e-01,  2.2296e-01, -9.1318e-01,\n",
       "       -3.5211e-01, -8.2717e-01, -7.5952e-03,  3.5023e-01, -3.5074e-01,\n",
       "        1.3972e-01,  1.3799e-02, -2.6180e-01,  5.0069e-01,  4.6282e-01,\n",
       "        1.1719e-01,  5.0206e-01, -1.1255e-01,  7.7301e-01, -8.5128e-02,\n",
       "        3.9358e-01, -7.3209e-01, -1.2514e-01,  4.2907e-01,  5.0027e-01,\n",
       "       -6.2671e-01, -7.1118e-01,  2.9393e-02,  4.7573e-02, -6.5154e-01,\n",
       "        4.1159e-02, -3.3808e-01,  3.5713e-01,  7.4648e-01,  4.1764e-01,\n",
       "       -3.0621e-01,  2.1056e-01,  1.8996e-01,  2.8266e-01, -1.6375e-01,\n",
       "       -1.3105e-01,  1.6865e-01,  3.2170e-01,  4.7711e-01, -6.3871e-02,\n",
       "       -3.7114e-01,  5.6844e-02, -2.0913e-01,  3.2272e-01, -2.6577e-01,\n",
       "       -7.2642e-01, -5.1556e-01,  4.2963e-02, -2.4045e-02,  8.9430e-02,\n",
       "       -6.7041e-03, -1.3799e-01, -1.8816e-01,  2.5914e-01, -1.1798e-01,\n",
       "       -2.5703e-01, -2.1319e-01, -9.5688e-02,  5.9459e-01,  7.3463e-03,\n",
       "        6.6417e-03,  6.8521e-02, -6.9692e-01,  2.0729e-01, -1.0138e+00,\n",
       "        3.2614e-02,  4.5162e-01, -2.4571e-01,  2.6617e-01,  1.2138e-01,\n",
       "        2.9444e-01, -6.0435e-01, -7.3141e-01,  1.1845e-02, -2.8756e-01,\n",
       "       -1.4219e-01,  3.0501e-01,  1.7510e-01,  1.7985e-01,  3.9870e-01,\n",
       "        5.9566e-01, -2.0540e-01, -5.5454e-01, -7.3739e-01, -5.6107e-01,\n",
       "        3.1314e-01, -8.5702e-02,  8.7628e-02,  6.1491e-01,  2.4843e-01,\n",
       "        5.0781e-01,  2.8660e-01, -1.0202e-01, -1.1260e-01, -5.7373e-02,\n",
       "        2.6657e-01, -1.6344e-01,  2.0312e-01,  4.6941e-01,  1.9000e-01,\n",
       "        5.3389e-02, -3.6039e-01, -2.5553e-01, -5.2634e-01,  3.2233e-02,\n",
       "        1.7055e-01, -4.1964e-02, -3.6595e-01,  2.7427e-01, -4.5900e-02,\n",
       "       -3.6997e-01, -2.3432e-02, -4.5705e-01,  8.4307e-02, -7.8083e-03,\n",
       "        5.6342e-01,  2.6550e-01,  1.5562e-01, -3.8495e-03,  5.2707e-01,\n",
       "       -1.6158e-02, -1.7405e-01,  3.2434e-01,  2.0363e-01,  4.0576e-01,\n",
       "        3.8368e-01, -1.6832e-01, -8.3967e-02, -5.8989e-02,  4.0168e-01,\n",
       "        1.1465e-01, -1.8093e-02, -1.6834e-01, -3.7422e-01,  1.8332e-01,\n",
       "       -1.5782e-01, -2.2618e-03, -1.3566e+00, -1.5131e-01, -2.0553e-02,\n",
       "       -7.7349e-03, -9.8702e-02, -1.8060e-01,  7.7881e-02, -1.4711e-01,\n",
       "       -5.0341e-02,  3.4700e-01, -1.2393e-01,  1.7974e-01,  3.5999e-01,\n",
       "        8.5479e-02, -6.0072e-02, -4.1262e-01,  3.2674e-02, -7.4963e-01,\n",
       "       -2.4579e-01,  2.7328e-01,  4.7678e-02, -1.8271e-01,  1.3860e-01,\n",
       "       -2.9123e-01, -5.5720e-01, -5.3915e-01, -5.9985e-02,  1.4121e-01,\n",
       "        1.9864e+00, -6.4810e-01,  3.1554e-01, -4.8864e-01,  4.0987e-01,\n",
       "        4.5304e-01,  2.2146e-02,  3.1867e-01, -2.9783e-01, -6.6752e-01,\n",
       "       -1.9476e-01,  3.0859e-01, -1.1054e-02,  6.9407e-02, -2.5197e-01,\n",
       "        4.6233e-01,  3.1145e-01,  2.1719e-02,  2.8516e-02, -2.4807e-02,\n",
       "        5.3853e-02, -2.9466e-01,  5.3435e-01, -2.3435e-01, -4.8158e-01,\n",
       "        8.5373e-02, -2.4410e-03, -2.7784e-01,  1.0620e-02,  4.2193e-01,\n",
       "        1.1520e-01, -1.5539e-02,  3.8296e-02, -2.9576e-01,  1.4751e-01,\n",
       "        9.6194e-02,  7.4878e-01, -1.4579e-01, -3.3221e-01, -1.4975e-01,\n",
       "        1.6058e-02, -6.9330e-02, -4.7779e-02,  6.2754e-03, -6.6176e-01,\n",
       "       -8.2704e-02, -6.3092e-01, -3.3101e-01, -5.9017e-01,  1.7888e-01,\n",
       "       -3.0182e-01, -4.6927e-01, -3.0864e-02,  5.8808e-01,  1.0327e-01,\n",
       "       -9.6458e-01, -3.2670e-01, -4.7619e-01,  5.5658e-01, -2.5605e-01,\n",
       "        7.8345e-03, -4.2682e-02,  6.0371e-01, -4.6962e-01,  2.1733e-01,\n",
       "        6.2665e-02, -1.0652e-01,  2.1210e-01,  9.1212e-01,  4.2676e-01,\n",
       "        3.8355e-01, -3.9268e-01, -4.5733e-02, -1.0260e-01,  2.5702e-01,\n",
       "        5.6328e-01, -1.0768e+00,  6.4327e-01,  4.7790e-01, -6.4065e-01,\n",
       "       -1.6069e-01, -6.1011e-01, -2.1564e-01,  2.8502e-01, -2.0350e-01,\n",
       "        3.4008e-01,  4.7013e-01, -4.3120e-01, -2.5702e-01,  1.6783e-01,\n",
       "        9.1305e-04, -2.2176e-01, -4.7596e-01,  3.1215e-01, -6.4065e-01,\n",
       "        2.9468e-02, -7.8654e-02, -1.9663e-01, -2.5852e-01,  4.6224e-01],\n",
       "      dtype=float32)"
      ]
     },
     "execution_count": 8,
     "metadata": {},
     "output_type": "execute_result"
    }
   ],
   "source": [
    "embeddings_lite_dict['hollywood']"
   ]
  },
  {
   "cell_type": "code",
   "execution_count": null,
   "metadata": {},
   "outputs": [],
   "source": []
  }
 ],
 "metadata": {
  "kernelspec": {
   "display_name": "py37-nlp",
   "language": "python",
   "name": "py37-nlp"
  },
  "language_info": {
   "codemirror_mode": {
    "name": "ipython",
    "version": 3
   },
   "file_extension": ".py",
   "mimetype": "text/x-python",
   "name": "python",
   "nbconvert_exporter": "python",
   "pygments_lexer": "ipython3",
   "version": "3.7.7"
  }
 },
 "nbformat": 4,
 "nbformat_minor": 2
}
