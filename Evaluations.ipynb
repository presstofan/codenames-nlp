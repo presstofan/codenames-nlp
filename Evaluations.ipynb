{
 "cells": [
  {
   "cell_type": "code",
   "execution_count": 16,
   "metadata": {},
   "outputs": [],
   "source": [
    "import numpy as np\n",
    "import pandas as pd\n",
    "from scipy import spatial\n",
    "import random\n",
    "import pickle"
   ]
  },
  {
   "cell_type": "code",
   "execution_count": 4,
   "metadata": {},
   "outputs": [],
   "source": [
    "embeddings = pickle.load(open(\"glove_6B_300d_lite.p\", \"rb\"))"
   ]
  },
  {
   "cell_type": "code",
   "execution_count": 9,
   "metadata": {},
   "outputs": [],
   "source": [
    "def distance(word, reference):\n",
    "    return spatial.distance.cosine(embeddings[word], embeddings[reference])\n",
    "\n",
    "def closest_words(reference):\n",
    "    return sorted(embeddings.keys(), key=lambda w: distance(w, reference))\n",
    "\n",
    "def goodness(word, answers, bad):\n",
    "    if word in answers + bad: return -999\n",
    "    return sum([distance(word, b) for b in bad]) - 4.0 * sum([distance(word, a) for a in answers])\n",
    "\n",
    "def minimax(word, answers, bad):\n",
    "    if word in answers + bad: return -999\n",
    "    return min([distance(word, b) for b in bad]) - max([distance(word, a) for a in answers])\n",
    "\n",
    "def candidates(answers, bad, size=100):\n",
    "    best = sorted(embeddings.keys(), key=lambda w: -1 * goodness(w, answers, bad))\n",
    "    res = [(str(i + 1), \"{0:.2f}\".format(minimax(w, answers, bad)), w) for i, w in enumerate(sorted(best[:250], key=lambda w: -1 * minimax(w, answers, bad))[:size])]\n",
    "    return [(\". \".join([c[0], c[2]]) + \" (\" + c[1] + \")\") for c in res]"
   ]
  },
  {
   "cell_type": "code",
   "execution_count": 8,
   "metadata": {},
   "outputs": [
    {
     "data": {
      "text/plain": [
       "[('magic',\n",
       "  'magical, orlando, magician, tricks, trick, evil, wizard, fantasy, warriors...'),\n",
       " ('sport',\n",
       "  'sports, sporting, racing, cycling, athletes, soccer, compete, football, recreational...'),\n",
       " ('scuba',\n",
       "  'diving, dive, boating, surfing, recreational, swimming, hiking, camping, fishing...'),\n",
       " ('sock',\n",
       "  'socks, glove, puppet, shoe, panties, underwear, gloves, shoes, ass...')]"
      ]
     },
     "execution_count": 8,
     "metadata": {},
     "output_type": "execute_result"
    }
   ],
   "source": [
    "[(w, \", \".join(closest_words(w)[1:10]) + \"...\") for w in [\"magic\", \"sport\", \"scuba\", \"sock\"]]"
   ]
  },
  {
   "cell_type": "code",
   "execution_count": 37,
   "metadata": {},
   "outputs": [],
   "source": [
    "# Load Codenames word list\n",
    "codenames_df = pd.read_csv(\"word_list/codenames_word_list.csv\") \n",
    "codenames = pd.melt(codenames_df, id_vars=['ID', 'Version'], value_vars=['SideA', 'SideB'],\n",
    "        var_name='Side', value_name='Codename')['Codename'].tolist()\n",
    "codenames = [i.lower() for i in codenames] # convert to lowercase\n",
    "\n",
    "# remove two-word nouns\n",
    "one_word_idx = [' ' not in i for i in codenames]\n",
    "codenames = [i for (i, v) in zip(codenames, one_word_idx) if v]\n",
    "\n",
    "class Game:\n",
    "    def __init__(self, answers, bad):\n",
    "        self.answers = answers\n",
    "        self.bad = bad\n",
    "        \n",
    "    def init(board_size, word_list):\n",
    "        words = random.choices(word_list, k=board_size)\n",
    "        random.shuffle(words)\n",
    "        print(words)\n",
    "        answers = words[:int(board_size/2)]\n",
    "        bad = words[int(board_size/2):]"
   ]
  },
  {
   "cell_type": "code",
   "execution_count": 38,
   "metadata": {},
   "outputs": [
    {
     "name": "stdout",
     "output_type": "stream",
     "text": [
      "['bermuda', 'check', 'france', 'parade']\n"
     ]
    }
   ],
   "source": [
    "game = Game.init(4, codenames)"
   ]
  },
  {
   "cell_type": "code",
   "execution_count": 40,
   "metadata": {},
   "outputs": [
    {
     "ename": "AttributeError",
     "evalue": "'NoneType' object has no attribute 'answers'",
     "output_type": "error",
     "traceback": [
      "\u001b[1;31m---------------------------------------------------------------------------\u001b[0m",
      "\u001b[1;31mAttributeError\u001b[0m                            Traceback (most recent call last)",
      "\u001b[1;32m<ipython-input-40-d8275efe091b>\u001b[0m in \u001b[0;36m<module>\u001b[1;34m\u001b[0m\n\u001b[1;32m----> 1\u001b[1;33m \u001b[0mgame\u001b[0m\u001b[1;33m.\u001b[0m\u001b[0manswers\u001b[0m\u001b[1;33m(\u001b[0m\u001b[1;33m)\u001b[0m\u001b[1;33m\u001b[0m\u001b[1;33m\u001b[0m\u001b[0m\n\u001b[0m",
      "\u001b[1;31mAttributeError\u001b[0m: 'NoneType' object has no attribute 'answers'"
     ]
    }
   ],
   "source": [
    "game.answers()"
   ]
  },
  {
   "cell_type": "code",
   "execution_count": 13,
   "metadata": {},
   "outputs": [
    {
     "data": {
      "text/plain": [
       "['1. bleeding (-0.04)',\n",
       " '2. chair (-0.10)',\n",
       " '3. tent (-0.13)',\n",
       " '4. muscle (-0.14)',\n",
       " '5. red (-0.15)',\n",
       " '6. kitchen (-0.15)',\n",
       " '7. internal (-0.15)',\n",
       " '8. occasionally (-0.16)',\n",
       " '9. lined (-0.16)',\n",
       " '10. shake (-0.17)',\n",
       " '11. white (-0.17)',\n",
       " '12. roll (-0.18)',\n",
       " '13. broken (-0.18)',\n",
       " '14. stomach (-0.19)',\n",
       " '15. door (-0.19)',\n",
       " '16. window (-0.19)',\n",
       " '17. blood (-0.20)',\n",
       " '18. front (-0.20)',\n",
       " '19. hand (-0.21)',\n",
       " '20. foot (-0.21)',\n",
       " '21. using (-0.21)',\n",
       " '22. traditional (-0.21)',\n",
       " '23. broke (-0.22)',\n",
       " '24. car (-0.22)',\n",
       " '25. sit (-0.22)',\n",
       " '26. wound (-0.22)',\n",
       " '27. side (-0.22)',\n",
       " '28. directly (-0.22)',\n",
       " '29. feet (-0.23)',\n",
       " '30. develop (-0.23)',\n",
       " '31. shoulder (-0.23)',\n",
       " '32. whenever (-0.23)',\n",
       " '33. crowd (-0.23)',\n",
       " '34. into (-0.23)',\n",
       " '35. standing (-0.24)',\n",
       " '36. counter (-0.24)',\n",
       " '37. used (-0.24)',\n",
       " '38. body (-0.24)',\n",
       " '39. found (-0.24)',\n",
       " '40. phones (-0.24)',\n",
       " '41. switch (-0.24)',\n",
       " '42. someone (-0.25)',\n",
       " '43. use (-0.25)',\n",
       " '44. floor (-0.25)',\n",
       " '45. volunteers (-0.25)',\n",
       " '46. building (-0.25)',\n",
       " '47. bed (-0.26)',\n",
       " '48. available (-0.26)',\n",
       " '49. typically (-0.26)',\n",
       " '50. arm (-0.26)',\n",
       " '51. family (-0.26)',\n",
       " '52. walked (-0.26)',\n",
       " '53. ear (-0.27)',\n",
       " '54. small (-0.27)',\n",
       " '55. touch (-0.27)',\n",
       " '56. large (-0.27)',\n",
       " '57. filled (-0.27)',\n",
       " '58. hands (-0.27)',\n",
       " '59. tried (-0.27)',\n",
       " '60. phone (-0.27)',\n",
       " '61. private (-0.27)',\n",
       " '62. inside (-0.28)',\n",
       " '63. behind (-0.28)',\n",
       " '64. walking (-0.28)',\n",
       " '65. simple (-0.28)',\n",
       " '66. away (-0.28)',\n",
       " '67. me (-0.28)',\n",
       " '68. sometimes (-0.29)',\n",
       " '69. left (-0.29)',\n",
       " '70. doctors (-0.29)',\n",
       " '71. immediately (-0.29)',\n",
       " '72. let (-0.29)',\n",
       " '73. across (-0.29)',\n",
       " '74. plate (-0.29)',\n",
       " '75. often (-0.30)',\n",
       " '76. head (-0.30)',\n",
       " '77. deep (-0.30)',\n",
       " '78. feel (-0.30)',\n",
       " '79. onto (-0.30)',\n",
       " '80. water (-0.31)',\n",
       " '81. or (-0.31)',\n",
       " '82. house (-0.31)',\n",
       " '83. heart (-0.31)',\n",
       " '84. your (-0.31)',\n",
       " '85. room (-0.31)',\n",
       " '86. hospital (-0.31)',\n",
       " '87. several (-0.31)',\n",
       " '88. longer (-0.31)',\n",
       " '89. fingers (-0.31)',\n",
       " '90. turning (-0.31)',\n",
       " '91. throat (-0.31)',\n",
       " '92. quickly (-0.31)',\n",
       " '93. service (-0.32)',\n",
       " '94. through (-0.32)',\n",
       " '95. apparently (-0.32)',\n",
       " '96. own (-0.32)',\n",
       " '97. trying (-0.32)',\n",
       " '98. neck (-0.32)',\n",
       " '99. finger (-0.32)',\n",
       " '100. either (-0.32)']"
      ]
     },
     "execution_count": 13,
     "metadata": {},
     "output_type": "execute_result"
    }
   ],
   "source": [
    "candidates(answers, bad)"
   ]
  },
  {
   "cell_type": "code",
   "execution_count": null,
   "metadata": {},
   "outputs": [],
   "source": []
  }
 ],
 "metadata": {
  "kernelspec": {
   "display_name": "py37-nlp",
   "language": "python",
   "name": "py37-nlp"
  },
  "language_info": {
   "codemirror_mode": {
    "name": "ipython",
    "version": 3
   },
   "file_extension": ".py",
   "mimetype": "text/x-python",
   "name": "python",
   "nbconvert_exporter": "python",
   "pygments_lexer": "ipython3",
   "version": "3.7.7"
  }
 },
 "nbformat": 4,
 "nbformat_minor": 2
}
